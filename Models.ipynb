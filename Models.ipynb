{
 "cells": [
  {
   "cell_type": "code",
   "id": "initial_id",
   "metadata": {
    "collapsed": true,
    "ExecuteTime": {
     "end_time": "2025-04-12T15:19:49.277634Z",
     "start_time": "2025-04-12T15:19:49.164342Z"
    }
   },
   "source": [
    "import pandas as pd\n",
    "from sklearn.model_selection import train_test_split\n",
    "\n",
    "df= pd.read_csv(\"data/chosen_features.csv\")\n",
    "x = df.iloc[:, :-1]\n",
    "y = df.iloc[:, -1]\n",
    "\n",
    "x_train, x_test, y_train, y_test = train_test_split(x, y, test_size=0.2, random_state=0)\n",
    "x_train.shape"
   ],
   "outputs": [
    {
     "data": {
      "text/plain": [
       "(11228, 61)"
      ]
     },
     "execution_count": 39,
     "metadata": {},
     "output_type": "execute_result"
    }
   ],
   "execution_count": 39
  },
  {
   "metadata": {
    "ExecuteTime": {
     "end_time": "2025-04-12T15:29:20.355611Z",
     "start_time": "2025-04-12T15:29:20.346737Z"
    }
   },
   "cell_type": "code",
   "source": [
    "from sklearn.metrics import classification_report\n",
    "\n",
    "def generate_metric_report(y_true, y_pred):\n",
    "    report = pd.DataFrame(classification_report(y_true, y_pred, output_dict=True))\n",
    "    report.iloc[:-1, :] = report.iloc[:-1, :] *100\n",
    "    for i, col in enumerate(report.columns):\n",
    "        report[col] = report[col].astype(str)\n",
    "        report.iloc[:-1, i] = report.iloc[:-1, i].apply( lambda v: str(f\"{ float(v):.2f} %\" ) )\n",
    "    return report"
   ],
   "id": "86006abe242a9359",
   "outputs": [],
   "execution_count": 62
  },
  {
   "metadata": {
    "ExecuteTime": {
     "end_time": "2025-04-12T15:05:16.414489Z",
     "start_time": "2025-04-12T15:05:03.896386Z"
    }
   },
   "cell_type": "code",
   "source": [
    "from sklearn.svm import SVC\n",
    "clf_svc = SVC(kernel = \"linear\")\n",
    "clf_svc.fit(x_train, y_train)\n",
    "svc_pred = clf_svc.predict(x_test)\n"
   ],
   "id": "2edcb579d7808b4c",
   "outputs": [
    {
     "data": {
      "text/plain": [
       "                anomaly         normal   accuracy      macro avg  \\\n",
       "precision     95.798319      99.628115  99.465812      97.713217   \n",
       "recall        91.935484      99.813711  99.465812      95.874597   \n",
       "f1-score      93.827160      99.720826  99.465812      96.773993   \n",
       "support    12400.000000  268400.000000  99.465812  280800.000000   \n",
       "\n",
       "            weighted avg  \n",
       "precision      99.458993  \n",
       "recall         99.465812  \n",
       "f1-score       99.460565  \n",
       "support    280800.000000  "
      ],
      "text/html": [
       "<div>\n",
       "<style scoped>\n",
       "    .dataframe tbody tr th:only-of-type {\n",
       "        vertical-align: middle;\n",
       "    }\n",
       "\n",
       "    .dataframe tbody tr th {\n",
       "        vertical-align: top;\n",
       "    }\n",
       "\n",
       "    .dataframe thead th {\n",
       "        text-align: right;\n",
       "    }\n",
       "</style>\n",
       "<table border=\"1\" class=\"dataframe\">\n",
       "  <thead>\n",
       "    <tr style=\"text-align: right;\">\n",
       "      <th></th>\n",
       "      <th>anomaly</th>\n",
       "      <th>normal</th>\n",
       "      <th>accuracy</th>\n",
       "      <th>macro avg</th>\n",
       "      <th>weighted avg</th>\n",
       "    </tr>\n",
       "  </thead>\n",
       "  <tbody>\n",
       "    <tr>\n",
       "      <th>precision</th>\n",
       "      <td>95.798319</td>\n",
       "      <td>99.628115</td>\n",
       "      <td>99.465812</td>\n",
       "      <td>97.713217</td>\n",
       "      <td>99.458993</td>\n",
       "    </tr>\n",
       "    <tr>\n",
       "      <th>recall</th>\n",
       "      <td>91.935484</td>\n",
       "      <td>99.813711</td>\n",
       "      <td>99.465812</td>\n",
       "      <td>95.874597</td>\n",
       "      <td>99.465812</td>\n",
       "    </tr>\n",
       "    <tr>\n",
       "      <th>f1-score</th>\n",
       "      <td>93.827160</td>\n",
       "      <td>99.720826</td>\n",
       "      <td>99.465812</td>\n",
       "      <td>96.773993</td>\n",
       "      <td>99.460565</td>\n",
       "    </tr>\n",
       "    <tr>\n",
       "      <th>support</th>\n",
       "      <td>12400.000000</td>\n",
       "      <td>268400.000000</td>\n",
       "      <td>99.465812</td>\n",
       "      <td>280800.000000</td>\n",
       "      <td>280800.000000</td>\n",
       "    </tr>\n",
       "  </tbody>\n",
       "</table>\n",
       "</div>"
      ]
     },
     "execution_count": 15,
     "metadata": {},
     "output_type": "execute_result"
    }
   ],
   "execution_count": 15
  },
  {
   "metadata": {
    "ExecuteTime": {
     "end_time": "2025-04-12T15:29:23.538532Z",
     "start_time": "2025-04-12T15:29:23.467651Z"
    }
   },
   "cell_type": "code",
   "source": "generate_metric_report(y_test, svc_pred)",
   "id": "aebe5f2f5e7e8b4d",
   "outputs": [
    {
     "data": {
      "text/plain": [
       "           anomaly   normal            accuracy macro avg weighted avg\n",
       "precision  95.80 %  99.63 %             99.47 %   97.71 %      99.46 %\n",
       "recall     91.94 %  99.81 %             99.47 %   95.87 %      99.47 %\n",
       "f1-score   93.83 %  99.72 %             99.47 %   96.77 %      99.46 %\n",
       "support      124.0   2684.0  0.9946581196581197    2808.0       2808.0"
      ],
      "text/html": [
       "<div>\n",
       "<style scoped>\n",
       "    .dataframe tbody tr th:only-of-type {\n",
       "        vertical-align: middle;\n",
       "    }\n",
       "\n",
       "    .dataframe tbody tr th {\n",
       "        vertical-align: top;\n",
       "    }\n",
       "\n",
       "    .dataframe thead th {\n",
       "        text-align: right;\n",
       "    }\n",
       "</style>\n",
       "<table border=\"1\" class=\"dataframe\">\n",
       "  <thead>\n",
       "    <tr style=\"text-align: right;\">\n",
       "      <th></th>\n",
       "      <th>anomaly</th>\n",
       "      <th>normal</th>\n",
       "      <th>accuracy</th>\n",
       "      <th>macro avg</th>\n",
       "      <th>weighted avg</th>\n",
       "    </tr>\n",
       "  </thead>\n",
       "  <tbody>\n",
       "    <tr>\n",
       "      <th>precision</th>\n",
       "      <td>95.80 %</td>\n",
       "      <td>99.63 %</td>\n",
       "      <td>99.47 %</td>\n",
       "      <td>97.71 %</td>\n",
       "      <td>99.46 %</td>\n",
       "    </tr>\n",
       "    <tr>\n",
       "      <th>recall</th>\n",
       "      <td>91.94 %</td>\n",
       "      <td>99.81 %</td>\n",
       "      <td>99.47 %</td>\n",
       "      <td>95.87 %</td>\n",
       "      <td>99.47 %</td>\n",
       "    </tr>\n",
       "    <tr>\n",
       "      <th>f1-score</th>\n",
       "      <td>93.83 %</td>\n",
       "      <td>99.72 %</td>\n",
       "      <td>99.47 %</td>\n",
       "      <td>96.77 %</td>\n",
       "      <td>99.46 %</td>\n",
       "    </tr>\n",
       "    <tr>\n",
       "      <th>support</th>\n",
       "      <td>124.0</td>\n",
       "      <td>2684.0</td>\n",
       "      <td>0.9946581196581197</td>\n",
       "      <td>2808.0</td>\n",
       "      <td>2808.0</td>\n",
       "    </tr>\n",
       "  </tbody>\n",
       "</table>\n",
       "</div>"
      ]
     },
     "execution_count": 63,
     "metadata": {},
     "output_type": "execute_result"
    }
   ],
   "execution_count": 63
  },
  {
   "metadata": {},
   "cell_type": "code",
   "outputs": [],
   "execution_count": null,
   "source": "",
   "id": "616d62889acb4c70"
  }
 ],
 "metadata": {
  "kernelspec": {
   "display_name": "Python 3",
   "language": "python",
   "name": "python3"
  },
  "language_info": {
   "codemirror_mode": {
    "name": "ipython",
    "version": 2
   },
   "file_extension": ".py",
   "mimetype": "text/x-python",
   "name": "python",
   "nbconvert_exporter": "python",
   "pygments_lexer": "ipython2",
   "version": "2.7.6"
  }
 },
 "nbformat": 4,
 "nbformat_minor": 5
}
