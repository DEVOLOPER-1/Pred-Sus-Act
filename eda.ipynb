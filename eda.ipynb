{
 "cells": [
  {
   "metadata": {},
   "cell_type": "markdown",
   "source": "## Imports",
   "id": "86a77faa172a23b7"
  },
  {
   "cell_type": "code",
   "id": "initial_id",
   "metadata": {
    "collapsed": true,
    "ExecuteTime": {
     "end_time": "2025-03-28T11:56:13.904519Z",
     "start_time": "2025-03-28T11:56:13.809861Z"
    }
   },
   "source": [
    "import polars as pl\n",
    "from dotenv import load_dotenv\n",
    "import polars.selectors as cs\n",
    "from strip_markdown import strip_markdown\n",
    "from google import genai\n",
    "import os"
   ],
   "outputs": [],
   "execution_count": 81
  },
  {
   "metadata": {},
   "cell_type": "markdown",
   "source": "## Environment Variables",
   "id": "a40733a318171ca6"
  },
  {
   "metadata": {
    "ExecuteTime": {
     "end_time": "2025-03-28T10:46:33.040052Z",
     "start_time": "2025-03-28T10:46:33.035896Z"
    }
   },
   "cell_type": "code",
   "source": [
    "load_dotenv(dotenv_path='secret.env')\n",
    "GEMINI_API_KEY= os.getenv(\"gem\")"
   ],
   "id": "ce187dc92d04ba82",
   "outputs": [],
   "execution_count": 28
  },
  {
   "metadata": {},
   "cell_type": "markdown",
   "source": "# Dataset Deals",
   "id": "a42b5444cdcea5ab"
  },
  {
   "metadata": {
    "ExecuteTime": {
     "end_time": "2025-03-28T10:45:58.638950Z",
     "start_time": "2025-03-28T10:45:58.627680Z"
    }
   },
   "cell_type": "code",
   "source": "df = pl.read_csv(\"data/Project_Phase1.csv\")\n",
   "id": "304c5dfa7dde4af8",
   "outputs": [],
   "execution_count": 23
  },
  {
   "metadata": {
    "ExecuteTime": {
     "end_time": "2025-03-28T10:46:00.455299Z",
     "start_time": "2025-03-28T10:46:00.450737Z"
    }
   },
   "cell_type": "code",
   "source": "df.shape",
   "id": "bc976c02930e3d79",
   "outputs": [
    {
     "data": {
      "text/plain": [
       "(14036, 31)"
      ]
     },
     "execution_count": 24,
     "metadata": {},
     "output_type": "execute_result"
    }
   ],
   "execution_count": 24
  },
  {
   "metadata": {
    "ExecuteTime": {
     "end_time": "2025-03-28T09:57:52.448280Z",
     "start_time": "2025-03-28T09:57:52.444370Z"
    }
   },
   "cell_type": "code",
   "source": "df.schema",
   "id": "28bdb6ad0acdbdbe",
   "outputs": [
    {
     "data": {
      "text/plain": [
       "Schema([('syn_error_rate', Float64),\n",
       "        ('connection_time', Int64),\n",
       "        ('destination_same_source_port_rate', Float64),\n",
       "        ('destination_different_server_rate', Float64),\n",
       "        ('connection_status', String),\n",
       "        ('connection_count', Int64),\n",
       "        ('destination_server_different_host_rate', Float64),\n",
       "        ('suspicious_activity', Int64),\n",
       "        ('protocol', String),\n",
       "        ('server_different_host_rate', Float64),\n",
       "        ('destination_server_syn_error_rate', Float64),\n",
       "        ('destination_host_server_count', Int64),\n",
       "        ('destination_same_server_rate', Float64),\n",
       "        ('fragment_errors', Int64),\n",
       "        ('compromised_count', Int64),\n",
       "        ('source_bytes', Int64),\n",
       "        ('service_type', String),\n",
       "        ('destination_syn_error_rate', Float64),\n",
       "        ('same_server_rate', Float64),\n",
       "        ('reset_error_rate', Float64),\n",
       "        ('server_request_count', Int64),\n",
       "        ('destination_server_reset_error_rate', Float64),\n",
       "        ('server_reset_error_rate', Float64),\n",
       "        ('server_syn_error_rate', Float64),\n",
       "        ('destination_bytes', Int64),\n",
       "        ('guest_login', Int64),\n",
       "        ('authentication_status', Int64),\n",
       "        ('destination_host_count', Int64),\n",
       "        ('destination_reset_error_rate', Float64),\n",
       "        ('different_server_rate', Float64),\n",
       "        ('class', String)])"
      ]
     },
     "execution_count": 20,
     "metadata": {},
     "output_type": "execute_result"
    }
   ],
   "execution_count": 20
  },
  {
   "metadata": {
    "ExecuteTime": {
     "end_time": "2025-03-28T12:00:08.293991Z",
     "start_time": "2025-03-28T12:00:08.283415Z"
    }
   },
   "cell_type": "code",
   "source": "df.describe()",
   "id": "eb8001679b0e08dd",
   "outputs": [
    {
     "data": {
      "text/plain": [
       "shape: (9, 32)\n",
       "┌────────────┬───────────┬───────────┬───────────┬───┬───────────┬───────────┬───────────┬─────────┐\n",
       "│ statistic  ┆ syn_error ┆ connectio ┆ destinati ┆ … ┆ destinati ┆ destinati ┆ different ┆ class   │\n",
       "│ ---        ┆ _rate     ┆ n_time    ┆ on_same_s ┆   ┆ on_host_c ┆ on_reset_ ┆ _server_r ┆ ---     │\n",
       "│ str        ┆ ---       ┆ ---       ┆ ource_por ┆   ┆ ount      ┆ error_rat ┆ ate       ┆ str     │\n",
       "│            ┆ f64       ┆ f64       ┆ t_r…      ┆   ┆ ---       ┆ e         ┆ ---       ┆         │\n",
       "│            ┆           ┆           ┆ ---       ┆   ┆ f64       ┆ ---       ┆ f64       ┆         │\n",
       "│            ┆           ┆           ┆ f64       ┆   ┆           ┆ f64       ┆           ┆         │\n",
       "╞════════════╪═══════════╪═══════════╪═══════════╪═══╪═══════════╪═══════════╪═══════════╪═════════╡\n",
       "│ count      ┆ 14036.0   ┆ 14036.0   ┆ 14036.0   ┆ … ┆ 14036.0   ┆ 14036.0   ┆ 14036.0   ┆ 14036   │\n",
       "│ null_count ┆ 0.0       ┆ 0.0       ┆ 0.0       ┆ … ┆ 0.0       ┆ 0.0       ┆ 0.0       ┆ 0       │\n",
       "│ mean       ┆ 0.039788  ┆ 184.19129 ┆ 0.122315  ┆ … ┆ 151.48625 ┆ 0.050431  ┆ 0.032923  ┆ null    │\n",
       "│            ┆           ┆ 4         ┆           ┆   ┆           ┆           ┆           ┆         │\n",
       "│ std        ┆ 0.183392  ┆ 1448.6040 ┆ 0.257433  ┆ … ┆ 101.76511 ┆ 0.203809  ┆ 0.151932  ┆ null    │\n",
       "│            ┆           ┆ 8         ┆           ┆   ┆           ┆           ┆           ┆         │\n",
       "│ min        ┆ 0.0       ┆ 0.0       ┆ 0.0       ┆ … ┆ 0.0       ┆ 0.0       ┆ 0.0       ┆ anomaly │\n",
       "│ 25%        ┆ 0.0       ┆ 0.0       ┆ 0.0       ┆ … ┆ 43.0      ┆ 0.0       ┆ 0.0       ┆ null    │\n",
       "│ 50%        ┆ 0.0       ┆ 0.0       ┆ 0.01      ┆ … ┆ 168.0     ┆ 0.0       ┆ 0.0       ┆ null    │\n",
       "│ 75%        ┆ 0.0       ┆ 0.0       ┆ 0.08      ┆ … ┆ 255.0     ┆ 0.0       ┆ 0.0       ┆ null    │\n",
       "│ max        ┆ 1.0       ┆ 41476.0   ┆ 1.0       ┆ … ┆ 255.0     ┆ 1.0       ┆ 1.0       ┆ normal  │\n",
       "└────────────┴───────────┴───────────┴───────────┴───┴───────────┴───────────┴───────────┴─────────┘"
      ],
      "text/html": [
       "<div><style>\n",
       ".dataframe > thead > tr,\n",
       ".dataframe > tbody > tr {\n",
       "  text-align: right;\n",
       "  white-space: pre-wrap;\n",
       "}\n",
       "</style>\n",
       "<small>shape: (9, 32)</small><table border=\"1\" class=\"dataframe\"><thead><tr><th>statistic</th><th>syn_error_rate</th><th>connection_time</th><th>destination_same_source_port_rate</th><th>destination_different_server_rate</th><th>connection_status</th><th>connection_count</th><th>destination_server_different_host_rate</th><th>suspicious_activity</th><th>protocol</th><th>server_different_host_rate</th><th>destination_server_syn_error_rate</th><th>destination_host_server_count</th><th>destination_same_server_rate</th><th>fragment_errors</th><th>compromised_count</th><th>source_bytes</th><th>service_type</th><th>destination_syn_error_rate</th><th>same_server_rate</th><th>reset_error_rate</th><th>server_request_count</th><th>destination_server_reset_error_rate</th><th>server_reset_error_rate</th><th>server_syn_error_rate</th><th>destination_bytes</th><th>guest_login</th><th>authentication_status</th><th>destination_host_count</th><th>destination_reset_error_rate</th><th>different_server_rate</th><th>class</th></tr><tr><td>str</td><td>f64</td><td>f64</td><td>f64</td><td>f64</td><td>str</td><td>f64</td><td>f64</td><td>f64</td><td>str</td><td>f64</td><td>f64</td><td>f64</td><td>f64</td><td>f64</td><td>f64</td><td>f64</td><td>str</td><td>f64</td><td>f64</td><td>f64</td><td>f64</td><td>f64</td><td>f64</td><td>f64</td><td>f64</td><td>f64</td><td>f64</td><td>f64</td><td>f64</td><td>f64</td><td>str</td></tr></thead><tbody><tr><td>&quot;count&quot;</td><td>14036.0</td><td>14036.0</td><td>14036.0</td><td>14036.0</td><td>&quot;14036&quot;</td><td>14036.0</td><td>14036.0</td><td>14036.0</td><td>&quot;14036&quot;</td><td>14036.0</td><td>14036.0</td><td>14036.0</td><td>14036.0</td><td>14036.0</td><td>14036.0</td><td>14036.0</td><td>&quot;14036&quot;</td><td>14036.0</td><td>14036.0</td><td>14036.0</td><td>14036.0</td><td>14036.0</td><td>14036.0</td><td>14036.0</td><td>14036.0</td><td>14036.0</td><td>14036.0</td><td>14036.0</td><td>14036.0</td><td>14036.0</td><td>&quot;14036&quot;</td></tr><tr><td>&quot;null_count&quot;</td><td>0.0</td><td>0.0</td><td>0.0</td><td>0.0</td><td>&quot;0&quot;</td><td>0.0</td><td>0.0</td><td>0.0</td><td>&quot;0&quot;</td><td>0.0</td><td>0.0</td><td>0.0</td><td>0.0</td><td>0.0</td><td>0.0</td><td>0.0</td><td>&quot;0&quot;</td><td>0.0</td><td>0.0</td><td>0.0</td><td>0.0</td><td>0.0</td><td>0.0</td><td>0.0</td><td>0.0</td><td>0.0</td><td>0.0</td><td>0.0</td><td>0.0</td><td>0.0</td><td>&quot;0&quot;</td></tr><tr><td>&quot;mean&quot;</td><td>0.039788</td><td>184.191294</td><td>0.122315</td><td>0.044255</td><td>null</td><td>28.048019</td><td>0.025829</td><td>0.221288</td><td>null</td><td>0.122144</td><td>0.032572</td><td>182.678755</td><td>0.783955</td><td>0.001567</td><td>0.393346</td><td>11341.807922</td><td>null</td><td>0.039907</td><td>0.94019</td><td>0.048265</td><td>27.400328</td><td>0.048468</td><td>0.049172</td><td>0.037901</td><td>4226.110074</td><td>0.012183</td><td>0.681177</td><td>151.48625</td><td>0.050431</td><td>0.032923</td><td>null</td></tr><tr><td>&quot;std&quot;</td><td>0.183392</td><td>1448.60408</td><td>0.257433</td><td>0.135233</td><td>null</td><td>63.798968</td><td>0.07139</td><td>2.327768</td><td>null</td><td>0.266557</td><td>0.168483</td><td>97.214193</td><td>0.348346</td><td>0.06751</td><td>13.949886</td><td>169682.168932</td><td>null</td><td>0.180893</td><td>0.211918</td><td>0.211091</td><td>60.297916</td><td>0.20034</td><td>0.211871</td><td>0.179243</td><td>68334.655301</td><td>0.109706</td><td>0.466037</td><td>101.76511</td><td>0.203809</td><td>0.151932</td><td>null</td></tr><tr><td>&quot;min&quot;</td><td>0.0</td><td>0.0</td><td>0.0</td><td>0.0</td><td>&quot;OTH&quot;</td><td>1.0</td><td>0.0</td><td>0.0</td><td>&quot;icmp&quot;</td><td>0.0</td><td>0.0</td><td>0.0</td><td>0.0</td><td>0.0</td><td>0.0</td><td>0.0</td><td>&quot;IRC&quot;</td><td>0.0</td><td>0.0</td><td>0.0</td><td>1.0</td><td>0.0</td><td>0.0</td><td>0.0</td><td>0.0</td><td>0.0</td><td>0.0</td><td>0.0</td><td>0.0</td><td>0.0</td><td>&quot;anomaly&quot;</td></tr><tr><td>&quot;25%&quot;</td><td>0.0</td><td>0.0</td><td>0.0</td><td>0.0</td><td>null</td><td>1.0</td><td>0.0</td><td>0.0</td><td>null</td><td>0.0</td><td>0.0</td><td>93.0</td><td>0.65</td><td>0.0</td><td>0.0</td><td>78.0</td><td>null</td><td>0.0</td><td>1.0</td><td>0.0</td><td>2.0</td><td>0.0</td><td>0.0</td><td>0.0</td><td>72.0</td><td>0.0</td><td>0.0</td><td>43.0</td><td>0.0</td><td>0.0</td><td>null</td></tr><tr><td>&quot;50%&quot;</td><td>0.0</td><td>0.0</td><td>0.01</td><td>0.0</td><td>null</td><td>5.0</td><td>0.0</td><td>0.0</td><td>null</td><td>0.0</td><td>0.0</td><td>254.0</td><td>1.0</td><td>0.0</td><td>0.0</td><td>229.0</td><td>null</td><td>0.0</td><td>1.0</td><td>0.0</td><td>6.0</td><td>0.0</td><td>0.0</td><td>0.0</td><td>347.0</td><td>0.0</td><td>1.0</td><td>168.0</td><td>0.0</td><td>0.0</td><td>null</td></tr><tr><td>&quot;75%&quot;</td><td>0.0</td><td>0.0</td><td>0.08</td><td>0.02</td><td>null</td><td>15.0</td><td>0.03</td><td>0.0</td><td>null</td><td>0.1</td><td>0.0</td><td>255.0</td><td>1.0</td><td>0.0</td><td>0.0</td><td>323.0</td><td>null</td><td>0.0</td><td>1.0</td><td>0.0</td><td>18.0</td><td>0.0</td><td>0.0</td><td>0.0</td><td>1924.0</td><td>0.0</td><td>1.0</td><td>255.0</td><td>0.0</td><td>0.0</td><td>null</td></tr><tr><td>&quot;max&quot;</td><td>1.0</td><td>41476.0</td><td>1.0</td><td>1.0</td><td>&quot;SF&quot;</td><td>511.0</td><td>1.0</td><td>77.0</td><td>&quot;udp&quot;</td><td>1.0</td><td>1.0</td><td>255.0</td><td>1.0</td><td>3.0</td><td>884.0</td><td>7.665876e6</td><td>&quot;whois&quot;</td><td>1.0</td><td>1.0</td><td>1.0</td><td>511.0</td><td>1.0</td><td>1.0</td><td>1.0</td><td>5.131424e6</td><td>1.0</td><td>1.0</td><td>255.0</td><td>1.0</td><td>1.0</td><td>&quot;normal&quot;</td></tr></tbody></table></div>"
      ]
     },
     "execution_count": 86,
     "metadata": {},
     "output_type": "execute_result"
    }
   ],
   "execution_count": 86
  },
  {
   "metadata": {},
   "cell_type": "markdown",
   "source": "## User Defined Functions (UDF)",
   "id": "844c372c1b374587"
  },
  {
   "metadata": {
    "ExecuteTime": {
     "end_time": "2025-03-28T11:38:27.213672Z",
     "start_time": "2025-03-28T11:38:27.202877Z"
    }
   },
   "cell_type": "code",
   "outputs": [
    {
     "data": {
      "text/plain": [
       "{'syn_error_rate': {'col_values_range': [0.0, 1.0], 'data_type': Float64},\n",
       " 'connection_time': {'col_values_range': [0, 41476], 'data_type': Int64},\n",
       " 'destination_same_source_port_rate': {'col_values_range': [0.0, 1.0],\n",
       "  'data_type': Float64},\n",
       " 'destination_different_server_rate': {'col_values_range': [0.0, 1.0],\n",
       "  'data_type': Float64},\n",
       " 'connection_status': {'col_unique_values': ['SF',\n",
       "   'RSTO',\n",
       "   'REJ',\n",
       "   'RSTOS0',\n",
       "   'S0',\n",
       "   'S2',\n",
       "   'RSTR',\n",
       "   'S3',\n",
       "   'OTH',\n",
       "   'S1'],\n",
       "  'data_type': String},\n",
       " 'connection_count': {'col_values_range': [1, 511], 'data_type': Int64},\n",
       " 'destination_server_different_host_rate': {'col_values_range': [0.0, 1.0],\n",
       "  'data_type': Float64},\n",
       " 'suspicious_activity': {'col_values_range': [0, 77], 'data_type': Int64},\n",
       " 'protocol': {'col_unique_values': ['tcp', 'udp', 'icmp'],\n",
       "  'data_type': String},\n",
       " 'server_different_host_rate': {'col_values_range': [0.0, 1.0],\n",
       "  'data_type': Float64},\n",
       " 'destination_server_syn_error_rate': {'col_values_range': [0.0, 1.0],\n",
       "  'data_type': Float64},\n",
       " 'destination_host_server_count': {'col_values_range': [0, 255],\n",
       "  'data_type': Int64},\n",
       " 'destination_same_server_rate': {'col_values_range': [0.0, 1.0],\n",
       "  'data_type': Float64},\n",
       " 'fragment_errors': {'col_values_range': [0, 3], 'data_type': Int64},\n",
       " 'compromised_count': {'col_values_range': [0, 884], 'data_type': Int64},\n",
       " 'source_bytes': {'col_values_range': [0, 7665876], 'data_type': Int64},\n",
       " 'service_type': {'col_unique_values': ['iso_tsap',\n",
       "   'netstat',\n",
       "   'csnet_ns',\n",
       "   'klogin',\n",
       "   'ldap',\n",
       "   'printer',\n",
       "   'link',\n",
       "   'sql_net',\n",
       "   'remote_job',\n",
       "   'finger',\n",
       "   'shell',\n",
       "   'domain_u',\n",
       "   'exec',\n",
       "   'http_443',\n",
       "   'nnsp',\n",
       "   'mtp',\n",
       "   'time',\n",
       "   'IRC',\n",
       "   'urh_i',\n",
       "   'other',\n",
       "   'urp_i',\n",
       "   'ssh',\n",
       "   'rje',\n",
       "   'pop_3',\n",
       "   'netbios_ssn',\n",
       "   'red_i',\n",
       "   'uucp',\n",
       "   'courier',\n",
       "   'eco_i',\n",
       "   'sunrpc',\n",
       "   'auth',\n",
       "   'private',\n",
       "   'echo',\n",
       "   'name',\n",
       "   'systat',\n",
       "   'hostnames',\n",
       "   'imap4',\n",
       "   'ftp',\n",
       "   'X11',\n",
       "   'whois',\n",
       "   'pop_2',\n",
       "   'smtp',\n",
       "   'telnet',\n",
       "   'efs',\n",
       "   'uucp_path',\n",
       "   'daytime',\n",
       "   'kshell',\n",
       "   'supdup',\n",
       "   'ntp_u',\n",
       "   'ftp_data',\n",
       "   'netbios_dgm',\n",
       "   'bgp',\n",
       "   'login',\n",
       "   'domain',\n",
       "   'ecr_i',\n",
       "   'http',\n",
       "   'discard',\n",
       "   'nntp',\n",
       "   'gopher',\n",
       "   'Z39_50',\n",
       "   'ctf',\n",
       "   'vmnet'],\n",
       "  'data_type': String},\n",
       " 'destination_syn_error_rate': {'col_values_range': [0.0, 1.0],\n",
       "  'data_type': Float64},\n",
       " 'same_server_rate': {'col_values_range': [0.0, 1.0], 'data_type': Float64},\n",
       " 'reset_error_rate': {'col_values_range': [0.0, 1.0], 'data_type': Float64},\n",
       " 'server_request_count': {'col_values_range': [1, 511], 'data_type': Int64},\n",
       " 'destination_server_reset_error_rate': {'col_values_range': [0.0, 1.0],\n",
       "  'data_type': Float64},\n",
       " 'server_reset_error_rate': {'col_values_range': [0.0, 1.0],\n",
       "  'data_type': Float64},\n",
       " 'server_syn_error_rate': {'col_values_range': [0.0, 1.0],\n",
       "  'data_type': Float64},\n",
       " 'destination_bytes': {'col_values_range': [0, 5131424], 'data_type': Int64},\n",
       " 'guest_login': {'col_values_range': [0, 1], 'data_type': Int64},\n",
       " 'authentication_status': {'col_values_range': [0, 1], 'data_type': Int64},\n",
       " 'destination_host_count': {'col_values_range': [0, 255], 'data_type': Int64},\n",
       " 'destination_reset_error_rate': {'col_values_range': [0.0, 1.0],\n",
       "  'data_type': Float64},\n",
       " 'different_server_rate': {'col_values_range': [0.0, 1.0],\n",
       "  'data_type': Float64},\n",
       " 'class': {'col_unique_values': ['anomaly', 'normal'], 'data_type': String}}"
      ]
     },
     "execution_count": 69,
     "metadata": {},
     "output_type": "execute_result"
    }
   ],
   "execution_count": 69,
   "source": [
    "def skimmer(df:pl.DataFrame)->dict:\n",
    "    out ={}\n",
    "    for col in df.columns:\n",
    "        if(df[col].dtype == pl.Utf8):\n",
    "            out[f\"{col}\"] =  {\"col_unique_values\": df[col].unique().to_list() , \"data_type\":df[col].dtype}\n",
    "        else:\n",
    "            out[f\"{col}\"] = {\"col_values_range\": [df[col].min(), df[col].max()],\"data_type\":df[col].dtype}\n",
    "    return out\n",
    "skimmer(df)"
   ],
   "id": "e679136683ede6d7"
  },
  {
   "metadata": {},
   "cell_type": "code",
   "source": [
    "def TheAnalyzer(QuickSchema:dict) -> str:\n",
    "    client = genai.Client(api_key=GEMINI_API_KEY)\n",
    "    \n",
    "    response = client.models.generate_content(\n",
    "    model=\"gemini-2.5-pro-exp-03-25\",\n",
    "    contents=f\"Explain the schema of this dataset {skimmer(df)} , also can u get which dataset it origins from approximately\",\n",
    "    )\n",
    "    return strip_markdown(response.text)\n",
    "print(TheAnalyzer(skimmer(df)))"
   ],
   "id": "6fa0eb111dc2d0d9",
   "outputs": [],
   "execution_count": null
  },
  {
   "metadata": {},
   "cell_type": "markdown",
   "source": "## Data Description",
   "id": "24f0c1691b2c918f"
  },
  {
   "metadata": {},
   "cell_type": "raw",
   "source": [
    "\n",
    "\n",
    "Dataset Schema Explanation:\n",
    "This dataset appears to describe network connection records, likely for the purpose of network intrusion or anomaly detection. Each record represents a single connection or aggregates statistics about recent connections. Here's a breakdown of the columns (features):\n",
    "Basic Connection Features:\n",
    "\n",
    "connection_time:\n",
    "Data Type: Int64 (Integer)\n",
    "Range: [0, 41476]\n",
    "Description: Likely the duration of the connection in seconds or another time unit.\n",
    "\n",
    "\n",
    "protocol:\n",
    "Data Type: String (Categorical)\n",
    "Unique Values: ['udp', 'icmp', 'tcp']\n",
    "Description: The network protocol used for the connection (UDP, ICMP, TCP).\n",
    "\n",
    "\n",
    "service_type:\n",
    "Data Type: String (Categorical)\n",
    "Unique Values: (List of 60+ services like 'http', 'ftp', 'smtp', 'telnet', 'private', 'other', etc.)\n",
    "Description: The destination network service (e.g., web, file transfer, email). Some values like 'private' or 'other' suggest a catch-all or unknown service.\n",
    "\n",
    "\n",
    "connection_status:\n",
    "Data Type: String (Categorical)\n",
    "Unique Values: ['SF', 'S1', 'OTH', 'REJ', 'RSTOS0', 'RSTR', 'S3', 'S2', 'S0', 'RSTO']\n",
    "Description: Represents the status of the connection establishment and termination. These codes often correspond to combinations of TCP flags observed or specific states (e.g., 'SF' likely means Normal establishment and termination, 'REJ' likely means Rejected). This is similar to the 'flag' feature in KDD datasets.\n",
    "\n",
    "\n",
    "source_bytes:\n",
    "Data Type: Int64 (Integer)\n",
    "Range: [0, 7665876]\n",
    "Description: Number of data bytes sent from the source to the destination.\n",
    "\n",
    "\n",
    "destination_bytes:\n",
    "Data Type: Int64 (Integer)\n",
    "Range: [0, 5131424]\n",
    "Description: Number of data bytes sent from the destination to the source.\n",
    "\n",
    "\n",
    "\n",
    "Content/Host-Based Features (Often related to specific behaviors within the connection):\n",
    "\n",
    "suspicious_activity:\n",
    "Data Type: Int64 (Integer)\n",
    "Range: [0, 77]\n",
    "Description: Count of 'hot' indicators or suspicious actions, like failed login attempts, accessing system control files, etc. Often called 'hot' in KDD datasets.\n",
    "\n",
    "\n",
    "compromised_count:\n",
    "Data Type: Int64 (Integer)\n",
    "Range: [0, 884]\n",
    "Description: Number of 'compromised' conditions or actions indicating potential system compromise (e.g., gaining root access).\n",
    "\n",
    "\n",
    "guest_login:\n",
    "Data Type: Int64 (Integer)\n",
    "Range: [0, 1]\n",
    "Description: Binary flag; 1 if the login was a 'guest' login, 0 otherwise.\n",
    "\n",
    "\n",
    "authentication_status:\n",
    "Data Type: Int64 (Integer)\n",
    "Range: [0, 1]\n",
    "Description: Binary flag; likely 1 if the user successfully logged in, 0 otherwise. Corresponds to logged_in in KDD datasets.\n",
    "\n",
    "\n",
    "fragment_errors:\n",
    "Data Type: Int64 (Integer)\n",
    "Range: [0, 3]\n",
    "Description: Count of network packets with fragmentation errors. Often called wrong_fragment in KDD datasets.\n",
    "\n",
    "\n",
    "\n",
    "Time-Based Traffic Features (Statistics over the last ~2 seconds or 100 connections):\n",
    "\n",
    "\n",
    "These features often look at connections to the same host or the same service within a recent time window.\n",
    "\n",
    "\n",
    "connection_count:\n",
    "\n",
    "Data Type: Int64 (Integer)\n",
    "Range: [1, 511]\n",
    "Description: Number of connections to the same destination host as the current connection in the past ~2 seconds (or sometimes 100 connections). Corresponds to count in KDD datasets.\n",
    "\n",
    "\n",
    "server_request_count:\n",
    "Data Type: Int64 (Integer)\n",
    "Range: [1, 511]\n",
    "Description: Number of connections to the same service (port number) as the current connection in the past ~2 seconds. Corresponds to srv_count in KDD datasets.\n",
    "\n",
    "\n",
    "same_server_rate:\n",
    "Data Type: Float64 (Float)\n",
    "Range: [0.0, 1.0]\n",
    "Description: Percentage of connections (in connection_count) that were to the same service. Corresponds to same_srv_rate in KDD datasets.\n",
    "\n",
    "\n",
    "different_server_rate:\n",
    "Data Type: Float64 (Float)\n",
    "Range: [0.0, 1.0]\n",
    "Description: Percentage of connections (in connection_count) that were to different services. Corresponds to diff_srv_rate in KDD datasets.\n",
    "\n",
    "\n",
    "server_different_host_rate:\n",
    "Data Type: Float64 (Float)\n",
    "Range: [0.0, 1.0]\n",
    "Description: Percentage of connections (in server_request_count) that were from different source hosts. Corresponds to srv_diff_host_rate in KDD datasets.\n",
    "\n",
    "\n",
    "\n",
    "Error Rate Features (Time-Based):\n",
    "\n",
    "syn_error_rate:\n",
    "Data Type: Float64 (Float)\n",
    "Range: [0.0, 1.0]\n",
    "Description: Percentage of connections (in connection_count) that had SYN errors (connection initiation errors). Corresponds to serror_rate in KDD datasets.\n",
    "\n",
    "\n",
    "server_syn_error_rate:\n",
    "Data Type: Float64 (Float)\n",
    "Range: [0.0, 1.0]\n",
    "Description: Percentage of connections (in server_request_count) that had SYN errors. Corresponds to srv_serror_rate in KDD datasets.\n",
    "\n",
    "\n",
    "reset_error_rate:\n",
    "Data Type: Float64 (Float)\n",
    "Range: [0.0, 1.0]\n",
    "Description: Percentage of connections (in connection_count) that had RST errors (reset errors). Corresponds to rerror_rate in KDD datasets.\n",
    "\n",
    "\n",
    "server_reset_error_rate:\n",
    "Data Type: Float64 (Float)\n",
    "Range: [0.0, 1.0]\n",
    "Description: Percentage of connections (in server_request_count) that had RST errors. Corresponds to srv_rerror_rate in KDD datasets.\n",
    "\n",
    "\n",
    "\n",
    "Host-Based Traffic Features (Statistics over the last ~100 connections to the destination host):\n",
    "\n",
    "\n",
    "These features look at connections based on the destination host, often using a window of the last 100 connections targeting that host.\n",
    "\n",
    "\n",
    "destination_host_count:\n",
    "\n",
    "Data Type: Int64 (Integer)\n",
    "Range: [0, 255]\n",
    "Description: Number of connections (in the last 100) having the same destination host. Corresponds to dst_host_count in KDD datasets.\n",
    "\n",
    "\n",
    "destination_host_server_count:\n",
    "Data Type: Int64 (Integer)\n",
    "Range: [0, 255]\n",
    "Description: Number of connections (in the last 100) having the same destination host and using the same service. Corresponds to dst_host_srv_count in KDD datasets.\n",
    "\n",
    "\n",
    "destination_same_server_rate:\n",
    "Data Type: Float64 (Float)\n",
    "Range: [0.0, 1.0]\n",
    "Description: Percentage of connections (in destination_host_count) that were to the same service. Corresponds to dst_host_same_srv_rate in KDD datasets.\n",
    "\n",
    "\n",
    "destination_different_server_rate:\n",
    "Data Type: Float64 (Float)\n",
    "Range: [0.0, 1.0]\n",
    "Description: Percentage of connections (in destination_host_count) that were to different services. Corresponds to dst_host_diff_srv_rate in KDD datasets.\n",
    "\n",
    "\n",
    "destination_same_source_port_rate:\n",
    "Data Type: Float64 (Float)\n",
    "Range: [0.0, 1.0]\n",
    "Description: Percentage of connections (in destination_host_count) that were from the same source port. Corresponds to dst_host_same_src_port_rate in KDD datasets.\n",
    "\n",
    "\n",
    "destination_server_different_host_rate:\n",
    "Data Type: Float64 (Float)\n",
    "Range: [0.0, 1.0]\n",
    "Description: Percentage of connections (in destination_host_server_count) that were from different source hosts. Corresponds to dst_host_srv_diff_host_rate in KDD datasets.\n",
    "\n",
    "\n",
    "\n",
    "Error Rate Features (Host-Based):\n",
    "\n",
    "destination_syn_error_rate:\n",
    "Data Type: Float64 (Float)\n",
    "Range: [0.0, 1.0]\n",
    "Description: Percentage of connections (in destination_host_count) that had SYN errors. Corresponds to dst_host_serror_rate in KDD datasets.\n",
    "\n",
    "\n",
    "destination_server_syn_error_rate:\n",
    "Data Type: Float64 (Float)\n",
    "Range: [0.0, 1.0]\n",
    "Description: Percentage of connections (in destination_host_server_count) that had SYN errors. Corresponds to dst_host_srv_serror_rate in KDD datasets.\n",
    "\n",
    "\n",
    "destination_reset_error_rate:\n",
    "Data Type: Float64 (Float)\n",
    "Range: [0.0, 1.0]\n",
    "Description: Percentage of connections (in destination_host_count) that had RST errors. Corresponds to dst_host_rerror_rate in KDD datasets.\n",
    "\n",
    "\n",
    "destination_server_reset_error_rate:\n",
    "Data Type: Float64 (Float)\n",
    "Range: [0.0, 1.0]\n",
    "Description: Percentage of connections (in destination_host_server_count) that had RST errors. Corresponds to dst_host_srv_rerror_rate in KDD datasets.\n",
    "\n",
    "\n",
    "\n",
    "Target/Class Label:\n",
    "\n",
    "class:\n",
    "Data Type: String (Categorical)\n",
    "Unique Values: ['normal', 'anomaly']\n",
    "Description: The classification label for the connection record, indicating whether it's considered normal traffic or an anomaly (potentially an attack).\n",
    "\n",
    "\n",
    "\n",
    "Likely Origin Dataset:\n",
    "Based on the feature names (e.g., connection_time -> duration, connection_status -> flag, connection_count -> count, server_request_count -> srv_count, the various _rate features), the types of features (basic connection info, content features, time-based traffic stats, host-based traffic stats), the specific values for categorical features (protocol, service_type, connection_status), and the presence of a class label ('normal', 'anomaly'), this schema strongly matches the KDD Cup 1999 (KDD'99) dataset or its refined version, the NSL-KDD dataset.\n",
    "\n",
    "KDD Cup 1999: A widely used benchmark dataset for intrusion detection systems, derived from DARPA'98 IDS evaluation data. It contains various simulated attacks mixed with normal traffic.\n",
    "NSL-KDD: A cleaned-up and improved version of KDD'99, addressing some of its statistical redundancy issues, making it more suitable for evaluating modern IDS.\n",
    "\n",
    "The feature names in your schema are slightly different but map almost directly to the standard KDD feature names. The class feature being binary ('normal', 'anomaly') is common when using these datasets for binary classification tasks, although the original KDD'99 dataset had more specific attack type labels.\n"
   ],
   "id": "63acbb84a83b52c8"
  },
  {
   "metadata": {},
   "cell_type": "markdown",
   "source": "## SyntaxTesting",
   "id": "3538c9b544fccb5e"
  },
  {
   "metadata": {
    "ExecuteTime": {
     "end_time": "2025-03-28T11:34:41.238171Z",
     "start_time": "2025-03-28T11:34:41.232643Z"
    }
   },
   "cell_type": "code",
   "outputs": [
    {
     "data": {
      "text/plain": [
       "shape: (3,)\n",
       "Series: 'protocol' [str]\n",
       "[\n",
       "\t\"icmp\"\n",
       "\t\"tcp\"\n",
       "\t\"udp\"\n",
       "]"
      ],
      "text/html": [
       "<div><style>\n",
       ".dataframe > thead > tr,\n",
       ".dataframe > tbody > tr {\n",
       "  text-align: right;\n",
       "  white-space: pre-wrap;\n",
       "}\n",
       "</style>\n",
       "<small>shape: (3,)</small><table border=\"1\" class=\"dataframe\"><thead><tr><th>protocol</th></tr><tr><td>str</td></tr></thead><tbody><tr><td>&quot;icmp&quot;</td></tr><tr><td>&quot;tcp&quot;</td></tr><tr><td>&quot;udp&quot;</td></tr></tbody></table></div>"
      ]
     },
     "execution_count": 65,
     "metadata": {},
     "output_type": "execute_result"
    }
   ],
   "execution_count": 65,
   "source": "df[\"protocol\"].unique()",
   "id": "abec46b101e3d527"
  },
  {
   "metadata": {
    "ExecuteTime": {
     "end_time": "2025-03-28T11:13:52.832376Z",
     "start_time": "2025-03-28T11:13:52.825067Z"
    }
   },
   "cell_type": "code",
   "outputs": [
    {
     "data": {
      "text/plain": [
       "shape: (159, 4)\n",
       "┌───────────────────┬──────────┬──────────────┬─────────┐\n",
       "│ connection_status ┆ protocol ┆ service_type ┆ class   │\n",
       "│ ---               ┆ ---      ┆ ---          ┆ ---     │\n",
       "│ str               ┆ str      ┆ str          ┆ str     │\n",
       "╞═══════════════════╪══════════╪══════════════╪═════════╡\n",
       "│ SF                ┆ tcp      ┆ finger       ┆ normal  │\n",
       "│ S0                ┆ tcp      ┆ exec         ┆ anomaly │\n",
       "│ S0                ┆ tcp      ┆ telnet       ┆ normal  │\n",
       "│ REJ               ┆ tcp      ┆ Z39_50       ┆ anomaly │\n",
       "│ SF                ┆ tcp      ┆ IRC          ┆ normal  │\n",
       "│ …                 ┆ …        ┆ …            ┆ …       │\n",
       "│ S0                ┆ tcp      ┆ auth         ┆ anomaly │\n",
       "│ S3                ┆ tcp      ┆ ftp_data     ┆ normal  │\n",
       "│ REJ               ┆ tcp      ┆ iso_tsap     ┆ anomaly │\n",
       "│ SF                ┆ tcp      ┆ auth         ┆ normal  │\n",
       "│ REJ               ┆ tcp      ┆ bgp          ┆ anomaly │\n",
       "└───────────────────┴──────────┴──────────────┴─────────┘"
      ],
      "text/html": [
       "<div><style>\n",
       ".dataframe > thead > tr,\n",
       ".dataframe > tbody > tr {\n",
       "  text-align: right;\n",
       "  white-space: pre-wrap;\n",
       "}\n",
       "</style>\n",
       "<small>shape: (159, 4)</small><table border=\"1\" class=\"dataframe\"><thead><tr><th>connection_status</th><th>protocol</th><th>service_type</th><th>class</th></tr><tr><td>str</td><td>str</td><td>str</td><td>str</td></tr></thead><tbody><tr><td>&quot;SF&quot;</td><td>&quot;tcp&quot;</td><td>&quot;finger&quot;</td><td>&quot;normal&quot;</td></tr><tr><td>&quot;S0&quot;</td><td>&quot;tcp&quot;</td><td>&quot;exec&quot;</td><td>&quot;anomaly&quot;</td></tr><tr><td>&quot;S0&quot;</td><td>&quot;tcp&quot;</td><td>&quot;telnet&quot;</td><td>&quot;normal&quot;</td></tr><tr><td>&quot;REJ&quot;</td><td>&quot;tcp&quot;</td><td>&quot;Z39_50&quot;</td><td>&quot;anomaly&quot;</td></tr><tr><td>&quot;SF&quot;</td><td>&quot;tcp&quot;</td><td>&quot;IRC&quot;</td><td>&quot;normal&quot;</td></tr><tr><td>&hellip;</td><td>&hellip;</td><td>&hellip;</td><td>&hellip;</td></tr><tr><td>&quot;S0&quot;</td><td>&quot;tcp&quot;</td><td>&quot;auth&quot;</td><td>&quot;anomaly&quot;</td></tr><tr><td>&quot;S3&quot;</td><td>&quot;tcp&quot;</td><td>&quot;ftp_data&quot;</td><td>&quot;normal&quot;</td></tr><tr><td>&quot;REJ&quot;</td><td>&quot;tcp&quot;</td><td>&quot;iso_tsap&quot;</td><td>&quot;anomaly&quot;</td></tr><tr><td>&quot;SF&quot;</td><td>&quot;tcp&quot;</td><td>&quot;auth&quot;</td><td>&quot;normal&quot;</td></tr><tr><td>&quot;REJ&quot;</td><td>&quot;tcp&quot;</td><td>&quot;bgp&quot;</td><td>&quot;anomaly&quot;</td></tr></tbody></table></div>"
      ]
     },
     "execution_count": 49,
     "metadata": {},
     "output_type": "execute_result"
    }
   ],
   "execution_count": 49,
   "source": "df.select(cs.string()).unique()",
   "id": "6dc50630a79c7c31"
  },
  {
   "metadata": {
    "ExecuteTime": {
     "end_time": "2025-03-28T11:56:55.219737Z",
     "start_time": "2025-03-28T11:56:55.216202Z"
    }
   },
   "cell_type": "code",
   "outputs": [
    {
     "name": "stdout",
     "output_type": "stream",
     "text": [
      "your_text_string\n",
      "t\n"
     ]
    }
   ],
   "execution_count": 83,
   "source": [
    "html = strip_markdown(\"#your_text_string\\nt\")\n",
    "print(html)"
   ],
   "id": "382bf8e46267e9aa"
  }
 ],
 "metadata": {
  "kernelspec": {
   "display_name": "Python 3",
   "language": "python",
   "name": "python3"
  },
  "language_info": {
   "codemirror_mode": {
    "name": "ipython",
    "version": 2
   },
   "file_extension": ".py",
   "mimetype": "text/x-python",
   "name": "python",
   "nbconvert_exporter": "python",
   "pygments_lexer": "ipython2",
   "version": "2.7.6"
  }
 },
 "nbformat": 4,
 "nbformat_minor": 5
}
